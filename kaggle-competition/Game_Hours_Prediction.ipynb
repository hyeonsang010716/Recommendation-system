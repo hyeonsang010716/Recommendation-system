{
  "cells": [
    {
      "cell_type": "code",
      "source": [
        "from google.colab import drive\n",
        "drive.mount('/content/drive')"
      ],
      "metadata": {
        "colab": {
          "base_uri": "https://localhost:8080/"
        },
        "id": "iMXnz9AL5vGY",
        "outputId": "b9c2dbc3-b2e2-489f-8564-ac67e3ba5407"
      },
      "execution_count": null,
      "outputs": [
        {
          "output_type": "stream",
          "name": "stdout",
          "text": [
            "Mounted at /content/drive\n"
          ]
        }
      ]
    },
    {
      "cell_type": "code",
      "execution_count": null,
      "metadata": {
        "id": "eElS-Lcl_88-"
      },
      "outputs": [],
      "source": [
        "import numpy as np\n",
        "from pandas import DataFrame\n",
        "users = dict()\n",
        "items = dict()\n",
        "rows = []\n",
        "cols = []\n",
        "data = []\n",
        "i = 0\n",
        "j = 0\n",
        "for l in open(\"drive/MyDrive/추천2/train.json\", 'r'):\n",
        "  d = eval(l)\n",
        "  u = d['userID']\n",
        "  g = d['gameID']\n",
        "  rating = d['hours_transformed']\n",
        "  if u in users:\n",
        "    ui = users[u]\n",
        "  else:\n",
        "    users[u] = i\n",
        "    ui = i\n",
        "    i += 1\n",
        "  if g in items:\n",
        "    gi = items[g]\n",
        "  else:\n",
        "    items[g] = j\n",
        "    gi = j\n",
        "    j += 1\n",
        "  rows.append(ui)\n",
        "  cols.append(gi)\n",
        "  data.append(rating)\n",
        "\n",
        "rows = np.array(rows)\n",
        "cols = np.array(cols)\n",
        "train = dict()\n",
        "train['userID'] = rows\n",
        "train['gameID'] = cols\n",
        "train = DataFrame(train)\n",
        "train['count'] = data\n",
        "\n",
        "with open(\"refined_train.csv\", \"w\") as f2:\n",
        "  f2.write(\"userID,gameID,hours\\n\")\n",
        "  for i , j , k in zip(rows, cols , data):\n",
        "    f2.write(f\"{i},{j} , {k}\\n\")"
      ]
    },
    {
      "cell_type": "code",
      "source": [
        "with open(\"drive/MyDrive/추천2/pairs_Hours.csv\", \"r\") as f1:\n",
        "    f1.readline()\n",
        "    lines = []\n",
        "    uids = []\n",
        "    gids = []\n",
        "    g_cs = []\n",
        "    u_cs = []\n",
        "    p_ts = []\n",
        "    test = dict()\n",
        "    for line in f1:\n",
        "        row_id, uid, gid = line.strip().split(\",\")\n",
        "        lines.append(row_id)\n",
        "        uids.append(users[uid])\n",
        "        gids.append(items[gid])\n",
        "    with open(\"Hours.csv\", \"w\") as f2:\n",
        "        f2.write(\"ID,userID,gameID\\n\")\n",
        "        for a , b , c in zip(lines , uids , gids):\n",
        "            f2.write(f\"{a},{b},{c}\\n\")"
      ],
      "metadata": {
        "id": "EMe-p5FglGxt"
      },
      "execution_count": null,
      "outputs": []
    },
    {
      "cell_type": "code",
      "source": [
        "from sklearn.preprocessing import OneHotEncoder\n",
        "from sklearn.compose import ColumnTransformer\n",
        "from sklearn.linear_model import Ridge\n",
        "from sklearn.model_selection import train_test_split\n",
        "from sklearn.metrics import mean_squared_error\n",
        "import pandas as pd\n",
        "\n",
        "df = pd.read_csv('refined_train.csv')\n",
        "\n",
        "X = df[['userID', 'gameID']]\n",
        "y = df['hours']\n",
        "transformer = ColumnTransformer([('onehot', OneHotEncoder(handle_unknown='ignore' , sparse_output=True), ['userID', 'gameID'])], remainder='passthrough')\n",
        "X_onehot = transformer.fit_transform(X)\n",
        "# X_train_onehot, X_test_onehot, y_train, y_test = train_test_split(X_onehot, y, test_size=0.2, random_state=42)\n",
        "model = Ridge(alpha=6 , )\n",
        "model.fit(X_onehot, y)\n",
        "# y_pred_onehot = model.predict(X_test_onehot)\n",
        "# mse_onehot = mean_squared_error(y_test, y_pred_onehot)\n",
        "# print(mse_onehot)\n",
        "# print(model_onehot.coef_)\n",
        "# print(model_onehot.intercept_)\n",
        "\n",
        "test = pd.read_csv(\"Hours.csv\")\n",
        "\n",
        "X_test = test[['userID', 'gameID']]\n",
        "X_onehot_test = transformer.transform(X_test)\n",
        "y_pred_test = model.predict(X_onehot_test)\n",
        "with open(\"Hours.csv\", \"r\") as f1:\n",
        "  f1.readline()\n",
        "  with open(\"result.csv\", \"w\") as f2:\n",
        "    f2.write(\"ID,Label\\n\")\n",
        "    for line , h in zip(f1,y_pred_test):\n",
        "      h = max(0 , h)\n",
        "      row_id, uid, gid = line.strip().split(\",\")\n",
        "      f2.write(f\"{row_id},{h}\\n\")\n"
      ],
      "metadata": {
        "id": "a9c7NKXQ8Fbh"
      },
      "execution_count": null,
      "outputs": []
    }
  ],
  "metadata": {
    "colab": {
      "provenance": []
    },
    "kernelspec": {
      "display_name": "Python 3",
      "name": "python3"
    },
    "language_info": {
      "name": "python"
    }
  },
  "nbformat": 4,
  "nbformat_minor": 0
}