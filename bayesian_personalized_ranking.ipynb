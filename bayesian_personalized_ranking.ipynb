{
  "nbformat": 4,
  "nbformat_minor": 0,
  "metadata": {
    "colab": {
      "provenance": [],
      "authorship_tag": "ABX9TyOR+cJxG+YP2dnlIAa8wpb7",
      "include_colab_link": true
    },
    "kernelspec": {
      "name": "python3",
      "display_name": "Python 3"
    },
    "language_info": {
      "name": "python"
    },
    "widgets": {
      "application/vnd.jupyter.widget-state+json": {
        "a4a06613ae994f0785dca22d51aa9a43": {
          "model_module": "@jupyter-widgets/controls",
          "model_name": "HBoxModel",
          "model_module_version": "1.5.0",
          "state": {
            "_dom_classes": [],
            "_model_module": "@jupyter-widgets/controls",
            "_model_module_version": "1.5.0",
            "_model_name": "HBoxModel",
            "_view_count": null,
            "_view_module": "@jupyter-widgets/controls",
            "_view_module_version": "1.5.0",
            "_view_name": "HBoxView",
            "box_style": "",
            "children": [
              "IPY_MODEL_b28ae222457a4076b03bc8e5b604231b",
              "IPY_MODEL_31168dcd85544b7cbabf0b2e8e7cc8a0",
              "IPY_MODEL_4ec7b08730e44939a4075f39c9c3ef64"
            ],
            "layout": "IPY_MODEL_86ba33f59ff34ac39e1dcd09e1f52c96"
          }
        },
        "b28ae222457a4076b03bc8e5b604231b": {
          "model_module": "@jupyter-widgets/controls",
          "model_name": "HTMLModel",
          "model_module_version": "1.5.0",
          "state": {
            "_dom_classes": [],
            "_model_module": "@jupyter-widgets/controls",
            "_model_module_version": "1.5.0",
            "_model_name": "HTMLModel",
            "_view_count": null,
            "_view_module": "@jupyter-widgets/controls",
            "_view_module_version": "1.5.0",
            "_view_name": "HTMLView",
            "description": "",
            "description_tooltip": null,
            "layout": "IPY_MODEL_438c39656fc94184a12810e351b6d0b1",
            "placeholder": "​",
            "style": "IPY_MODEL_764b0ad29ee24094acc5bf0b1e4dba0b",
            "value": "100%"
          }
        },
        "31168dcd85544b7cbabf0b2e8e7cc8a0": {
          "model_module": "@jupyter-widgets/controls",
          "model_name": "FloatProgressModel",
          "model_module_version": "1.5.0",
          "state": {
            "_dom_classes": [],
            "_model_module": "@jupyter-widgets/controls",
            "_model_module_version": "1.5.0",
            "_model_name": "FloatProgressModel",
            "_view_count": null,
            "_view_module": "@jupyter-widgets/controls",
            "_view_module_version": "1.5.0",
            "_view_name": "ProgressView",
            "bar_style": "success",
            "description": "",
            "description_tooltip": null,
            "layout": "IPY_MODEL_6287addac249429aa309f55fd1fb21fa",
            "max": 100,
            "min": 0,
            "orientation": "horizontal",
            "style": "IPY_MODEL_d194b55246354673a15c36bdb904eb7c",
            "value": 100
          }
        },
        "4ec7b08730e44939a4075f39c9c3ef64": {
          "model_module": "@jupyter-widgets/controls",
          "model_name": "HTMLModel",
          "model_module_version": "1.5.0",
          "state": {
            "_dom_classes": [],
            "_model_module": "@jupyter-widgets/controls",
            "_model_module_version": "1.5.0",
            "_model_name": "HTMLModel",
            "_view_count": null,
            "_view_module": "@jupyter-widgets/controls",
            "_view_module_version": "1.5.0",
            "_view_name": "HTMLView",
            "description": "",
            "description_tooltip": null,
            "layout": "IPY_MODEL_c1239ca354804f1f933e202dba4e6ec6",
            "placeholder": "​",
            "style": "IPY_MODEL_7dc02f9594544a9bbca6bb26e29cd441",
            "value": " 100/100 [00:03&lt;00:00, 27.50it/s, train_auc=90.17%, skipped=24.47%]"
          }
        },
        "86ba33f59ff34ac39e1dcd09e1f52c96": {
          "model_module": "@jupyter-widgets/base",
          "model_name": "LayoutModel",
          "model_module_version": "1.2.0",
          "state": {
            "_model_module": "@jupyter-widgets/base",
            "_model_module_version": "1.2.0",
            "_model_name": "LayoutModel",
            "_view_count": null,
            "_view_module": "@jupyter-widgets/base",
            "_view_module_version": "1.2.0",
            "_view_name": "LayoutView",
            "align_content": null,
            "align_items": null,
            "align_self": null,
            "border": null,
            "bottom": null,
            "display": null,
            "flex": null,
            "flex_flow": null,
            "grid_area": null,
            "grid_auto_columns": null,
            "grid_auto_flow": null,
            "grid_auto_rows": null,
            "grid_column": null,
            "grid_gap": null,
            "grid_row": null,
            "grid_template_areas": null,
            "grid_template_columns": null,
            "grid_template_rows": null,
            "height": null,
            "justify_content": null,
            "justify_items": null,
            "left": null,
            "margin": null,
            "max_height": null,
            "max_width": null,
            "min_height": null,
            "min_width": null,
            "object_fit": null,
            "object_position": null,
            "order": null,
            "overflow": null,
            "overflow_x": null,
            "overflow_y": null,
            "padding": null,
            "right": null,
            "top": null,
            "visibility": null,
            "width": null
          }
        },
        "438c39656fc94184a12810e351b6d0b1": {
          "model_module": "@jupyter-widgets/base",
          "model_name": "LayoutModel",
          "model_module_version": "1.2.0",
          "state": {
            "_model_module": "@jupyter-widgets/base",
            "_model_module_version": "1.2.0",
            "_model_name": "LayoutModel",
            "_view_count": null,
            "_view_module": "@jupyter-widgets/base",
            "_view_module_version": "1.2.0",
            "_view_name": "LayoutView",
            "align_content": null,
            "align_items": null,
            "align_self": null,
            "border": null,
            "bottom": null,
            "display": null,
            "flex": null,
            "flex_flow": null,
            "grid_area": null,
            "grid_auto_columns": null,
            "grid_auto_flow": null,
            "grid_auto_rows": null,
            "grid_column": null,
            "grid_gap": null,
            "grid_row": null,
            "grid_template_areas": null,
            "grid_template_columns": null,
            "grid_template_rows": null,
            "height": null,
            "justify_content": null,
            "justify_items": null,
            "left": null,
            "margin": null,
            "max_height": null,
            "max_width": null,
            "min_height": null,
            "min_width": null,
            "object_fit": null,
            "object_position": null,
            "order": null,
            "overflow": null,
            "overflow_x": null,
            "overflow_y": null,
            "padding": null,
            "right": null,
            "top": null,
            "visibility": null,
            "width": null
          }
        },
        "764b0ad29ee24094acc5bf0b1e4dba0b": {
          "model_module": "@jupyter-widgets/controls",
          "model_name": "DescriptionStyleModel",
          "model_module_version": "1.5.0",
          "state": {
            "_model_module": "@jupyter-widgets/controls",
            "_model_module_version": "1.5.0",
            "_model_name": "DescriptionStyleModel",
            "_view_count": null,
            "_view_module": "@jupyter-widgets/base",
            "_view_module_version": "1.2.0",
            "_view_name": "StyleView",
            "description_width": ""
          }
        },
        "6287addac249429aa309f55fd1fb21fa": {
          "model_module": "@jupyter-widgets/base",
          "model_name": "LayoutModel",
          "model_module_version": "1.2.0",
          "state": {
            "_model_module": "@jupyter-widgets/base",
            "_model_module_version": "1.2.0",
            "_model_name": "LayoutModel",
            "_view_count": null,
            "_view_module": "@jupyter-widgets/base",
            "_view_module_version": "1.2.0",
            "_view_name": "LayoutView",
            "align_content": null,
            "align_items": null,
            "align_self": null,
            "border": null,
            "bottom": null,
            "display": null,
            "flex": null,
            "flex_flow": null,
            "grid_area": null,
            "grid_auto_columns": null,
            "grid_auto_flow": null,
            "grid_auto_rows": null,
            "grid_column": null,
            "grid_gap": null,
            "grid_row": null,
            "grid_template_areas": null,
            "grid_template_columns": null,
            "grid_template_rows": null,
            "height": null,
            "justify_content": null,
            "justify_items": null,
            "left": null,
            "margin": null,
            "max_height": null,
            "max_width": null,
            "min_height": null,
            "min_width": null,
            "object_fit": null,
            "object_position": null,
            "order": null,
            "overflow": null,
            "overflow_x": null,
            "overflow_y": null,
            "padding": null,
            "right": null,
            "top": null,
            "visibility": null,
            "width": null
          }
        },
        "d194b55246354673a15c36bdb904eb7c": {
          "model_module": "@jupyter-widgets/controls",
          "model_name": "ProgressStyleModel",
          "model_module_version": "1.5.0",
          "state": {
            "_model_module": "@jupyter-widgets/controls",
            "_model_module_version": "1.5.0",
            "_model_name": "ProgressStyleModel",
            "_view_count": null,
            "_view_module": "@jupyter-widgets/base",
            "_view_module_version": "1.2.0",
            "_view_name": "StyleView",
            "bar_color": null,
            "description_width": ""
          }
        },
        "c1239ca354804f1f933e202dba4e6ec6": {
          "model_module": "@jupyter-widgets/base",
          "model_name": "LayoutModel",
          "model_module_version": "1.2.0",
          "state": {
            "_model_module": "@jupyter-widgets/base",
            "_model_module_version": "1.2.0",
            "_model_name": "LayoutModel",
            "_view_count": null,
            "_view_module": "@jupyter-widgets/base",
            "_view_module_version": "1.2.0",
            "_view_name": "LayoutView",
            "align_content": null,
            "align_items": null,
            "align_self": null,
            "border": null,
            "bottom": null,
            "display": null,
            "flex": null,
            "flex_flow": null,
            "grid_area": null,
            "grid_auto_columns": null,
            "grid_auto_flow": null,
            "grid_auto_rows": null,
            "grid_column": null,
            "grid_gap": null,
            "grid_row": null,
            "grid_template_areas": null,
            "grid_template_columns": null,
            "grid_template_rows": null,
            "height": null,
            "justify_content": null,
            "justify_items": null,
            "left": null,
            "margin": null,
            "max_height": null,
            "max_width": null,
            "min_height": null,
            "min_width": null,
            "object_fit": null,
            "object_position": null,
            "order": null,
            "overflow": null,
            "overflow_x": null,
            "overflow_y": null,
            "padding": null,
            "right": null,
            "top": null,
            "visibility": null,
            "width": null
          }
        },
        "7dc02f9594544a9bbca6bb26e29cd441": {
          "model_module": "@jupyter-widgets/controls",
          "model_name": "DescriptionStyleModel",
          "model_module_version": "1.5.0",
          "state": {
            "_model_module": "@jupyter-widgets/controls",
            "_model_module_version": "1.5.0",
            "_model_name": "DescriptionStyleModel",
            "_view_count": null,
            "_view_module": "@jupyter-widgets/base",
            "_view_module_version": "1.2.0",
            "_view_name": "StyleView",
            "description_width": ""
          }
        }
      }
    }
  },
  "cells": [
    {
      "cell_type": "markdown",
      "metadata": {
        "id": "view-in-github",
        "colab_type": "text"
      },
      "source": [
        "<a href=\"https://colab.research.google.com/github/hyeonsang010716/Recommendation-system/blob/main/bayesian_personalized_ranking.ipynb\" target=\"_parent\"><img src=\"https://colab.research.google.com/assets/colab-badge.svg\" alt=\"Open In Colab\"/></a>"
      ]
    },
    {
      "cell_type": "code",
      "execution_count": null,
      "metadata": {
        "id": "qUM1dacxNA3O"
      },
      "outputs": [],
      "source": [
        "#CSR 매트릭스 표현하기 중간고사 + 복잡도 O(N +X)"
      ]
    },
    {
      "cell_type": "code",
      "source": [
        "!pip install implicit"
      ],
      "metadata": {
        "colab": {
          "base_uri": "https://localhost:8080/"
        },
        "id": "IwL5I2MDOCYI",
        "outputId": "494705df-edbc-4740-ec39-59cbd30f16d7"
      },
      "execution_count": null,
      "outputs": [
        {
          "output_type": "stream",
          "name": "stdout",
          "text": [
            "Collecting implicit\n",
            "  Downloading implicit-0.7.2-cp310-cp310-manylinux2014_x86_64.whl (8.9 MB)\n",
            "\u001b[2K     \u001b[90m━━━━━━━━━━━━━━━━━━━━━━━━━━━━━━━━━━━━━━━━\u001b[0m \u001b[32m8.9/8.9 MB\u001b[0m \u001b[31m18.4 MB/s\u001b[0m eta \u001b[36m0:00:00\u001b[0m\n",
            "\u001b[?25hRequirement already satisfied: numpy>=1.17.0 in /usr/local/lib/python3.10/dist-packages (from implicit) (1.25.2)\n",
            "Requirement already satisfied: scipy>=0.16 in /usr/local/lib/python3.10/dist-packages (from implicit) (1.11.4)\n",
            "Requirement already satisfied: tqdm>=4.27 in /usr/local/lib/python3.10/dist-packages (from implicit) (4.66.2)\n",
            "Requirement already satisfied: threadpoolctl in /usr/local/lib/python3.10/dist-packages (from implicit) (3.4.0)\n",
            "Installing collected packages: implicit\n",
            "Successfully installed implicit-0.7.2\n"
          ]
        }
      ]
    },
    {
      "cell_type": "code",
      "source": [
        "!wget https://files.grouplens.org/datasets/movielens/ml-latest-small.zip\n",
        "!unzip ml-latest-small.zip"
      ],
      "metadata": {
        "colab": {
          "base_uri": "https://localhost:8080/"
        },
        "id": "BnmfiK2uTdy7",
        "outputId": "7b91038b-cccc-4666-c512-ac5d07282453"
      },
      "execution_count": null,
      "outputs": [
        {
          "output_type": "stream",
          "name": "stdout",
          "text": [
            "--2024-04-03 04:54:17--  https://files.grouplens.org/datasets/movielens/ml-latest-small.zip\n",
            "Resolving files.grouplens.org (files.grouplens.org)... 128.101.65.152\n",
            "Connecting to files.grouplens.org (files.grouplens.org)|128.101.65.152|:443... connected.\n",
            "HTTP request sent, awaiting response... 200 OK\n",
            "Length: 978202 (955K) [application/zip]\n",
            "Saving to: ‘ml-latest-small.zip’\n",
            "\n",
            "ml-latest-small.zip 100%[===================>] 955.28K  4.60MB/s    in 0.2s    \n",
            "\n",
            "2024-04-03 04:54:17 (4.60 MB/s) - ‘ml-latest-small.zip’ saved [978202/978202]\n",
            "\n",
            "Archive:  ml-latest-small.zip\n",
            "   creating: ml-latest-small/\n",
            "  inflating: ml-latest-small/links.csv  \n",
            "  inflating: ml-latest-small/tags.csv  \n",
            "  inflating: ml-latest-small/ratings.csv  \n",
            "  inflating: ml-latest-small/README.txt  \n",
            "  inflating: ml-latest-small/movies.csv  \n"
          ]
        }
      ]
    },
    {
      "cell_type": "code",
      "source": [
        "from scipy.sparse import csr_matrix\n",
        "import numpy as np\n",
        "rows = [] #유저가 로우\n",
        "cols = [] #아이템이 컬럼\n",
        "data = []\n",
        "with open(\"ml-latest-small/ratings.csv\" , \"r\") as f:\n",
        "  f.readline()\n",
        "  for line in f:\n",
        "    uid , mid , _ , _ = line.split(\",\")\n",
        "    rows.append(int(uid))\n",
        "    cols.append(int(mid))\n",
        "    data.append(1)\n",
        "\n",
        "rows = np.array(rows)\n",
        "cols = np.array(cols)\n",
        "data = np.array(data)\n",
        "\n",
        "ratings_csr = csr_matrix((data , (rows , cols)))\n"
      ],
      "metadata": {
        "id": "yW_duvsyTsmN"
      },
      "execution_count": null,
      "outputs": []
    },
    {
      "cell_type": "code",
      "source": [
        "ratings_csr"
      ],
      "metadata": {
        "colab": {
          "base_uri": "https://localhost:8080/"
        },
        "id": "E7Zw2PUEUwn8",
        "outputId": "5adbb8e1-cb7a-4cce-91a5-c7a7a59f1d5f"
      },
      "execution_count": null,
      "outputs": [
        {
          "output_type": "execute_result",
          "data": {
            "text/plain": [
              "<611x193610 sparse matrix of type '<class 'numpy.int64'>'\n",
              "\twith 100836 stored elements in Compressed Sparse Row format>"
            ]
          },
          "metadata": {},
          "execution_count": 5
        }
      ]
    },
    {
      "cell_type": "code",
      "source": [
        "from implicit import bpr\n",
        "\n",
        "model = bpr.BayesianPersonalizedRanking(factors = 10)\n",
        "model.fit(ratings_csr)"
      ],
      "metadata": {
        "colab": {
          "base_uri": "https://localhost:8080/",
          "height": 49,
          "referenced_widgets": [
            "a4a06613ae994f0785dca22d51aa9a43",
            "b28ae222457a4076b03bc8e5b604231b",
            "31168dcd85544b7cbabf0b2e8e7cc8a0",
            "4ec7b08730e44939a4075f39c9c3ef64",
            "86ba33f59ff34ac39e1dcd09e1f52c96",
            "438c39656fc94184a12810e351b6d0b1",
            "764b0ad29ee24094acc5bf0b1e4dba0b",
            "6287addac249429aa309f55fd1fb21fa",
            "d194b55246354673a15c36bdb904eb7c",
            "c1239ca354804f1f933e202dba4e6ec6",
            "7dc02f9594544a9bbca6bb26e29cd441"
          ]
        },
        "id": "_-uDfm75Uy_S",
        "outputId": "039a841a-1a97-4f5e-8c37-11192d97f3e7"
      },
      "execution_count": null,
      "outputs": [
        {
          "output_type": "display_data",
          "data": {
            "text/plain": [
              "  0%|          | 0/100 [00:00<?, ?it/s]"
            ],
            "application/vnd.jupyter.widget-view+json": {
              "version_major": 2,
              "version_minor": 0,
              "model_id": "a4a06613ae994f0785dca22d51aa9a43"
            }
          },
          "metadata": {}
        }
      ]
    },
    {
      "cell_type": "code",
      "source": [
        "users = [2,3,4,5] # 2번 3번 4번 5번 유저들 추천\n",
        "ids , scores = model.recommend(users , ratings_csr[users])\n",
        "print(ids)\n",
        "print(scores)\n",
        "\n",
        "#[[115569 112556 122904 106920  89745  84152 112852  68954 139385 112138] - 2번 유저한테 추천 무비 아이디\n",
        "# [  1269   1295   3706   2150   2384   1959   2243   1077   6662   2352] - 3번\n",
        "# [  2396   1285   2352   2248   2289   2144   1958   1247   1296    838] - 4번\n",
        "# [    17    539    339     62    454    161    141    292    225    587] - 5번 ]"
      ],
      "metadata": {
        "colab": {
          "base_uri": "https://localhost:8080/"
        },
        "id": "36ak6Ou0VeUJ",
        "outputId": "781c9da8-7dca-47c4-d820-538c5fcc5159"
      },
      "execution_count": null,
      "outputs": [
        {
          "output_type": "stream",
          "name": "stdout",
          "text": [
            "[[115569 112556 122904 106920  89745  84152 112852  68954 139385 112138]\n",
            " [  1269   1295   3706   2150   2384   1959   2243   1077   6662   2352]\n",
            " [  2396   1285   2352   2248   2289   2144   1958   1247   1296    838]\n",
            " [    17    539    339     62    454    161    141    292    225    587]]\n",
            "[[3.3710876 3.358287  3.2743332 3.2371976 3.2007866 3.1546407 3.148889\n",
            "  3.144515  3.135222  3.123825 ]\n",
            " [2.5056498 2.3934789 2.3095949 2.258928  2.24599   2.2383065 2.214796\n",
            "  2.1689749 2.1677089 2.1525428]\n",
            " [4.2362504 4.0210643 3.7800968 3.7768152 3.6185904 3.573056  3.5612266\n",
            "  3.5382156 3.4476848 3.411141 ]\n",
            " [4.4059424 4.3746977 4.3660607 4.201074  4.166909  4.088395  4.0699553\n",
            "  4.0687838 4.037872  4.014175 ]]\n"
          ]
        }
      ]
    },
    {
      "cell_type": "code",
      "source": [
        "model.user_factors.shape # 611명 유저들에 factor들이고 우리가 factor를 10으로 설정해주었지만 내부적으로 우리가 설정 + 1 로 만들어줌"
      ],
      "metadata": {
        "colab": {
          "base_uri": "https://localhost:8080/"
        },
        "id": "Sly8nxMFWPDj",
        "outputId": "25484ef0-c099-480d-f434-627791aec828"
      },
      "execution_count": null,
      "outputs": [
        {
          "output_type": "execute_result",
          "data": {
            "text/plain": [
              "(611, 11)"
            ]
          },
          "metadata": {},
          "execution_count": 10
        }
      ]
    },
    {
      "cell_type": "code",
      "source": [
        "import torch\n",
        "\n",
        "users = torch.from_numpy(rows)\n",
        "items = torch.from_numpy(cols)\n",
        "# numpy -> torch로 변환\n",
        "n_items = max(items) + 1\n",
        "n_users = max(users) + 1\n",
        "n_factors = 10\n",
        "item_bias = torch.randn(n_items)\n",
        "item_factor = torch.randn(n_items , n_factors , requires_grad=True)\n",
        "\n",
        "user_factor = torch.randn(n_users , n_factors , requires_grad=True)\n",
        "\n"
      ],
      "metadata": {
        "id": "INi6WFbeWmPt"
      },
      "execution_count": null,
      "outputs": []
    },
    {
      "cell_type": "code",
      "source": [
        "optim = torch.optim.Adam([item_bias , item_factor , user_factor] , lr = 0.1)\n",
        "logsigmoid = torch.nn.LogSigmoid()\n",
        "lmd = 0.01\n",
        "for epoch in range(100):\n",
        "  neg_items = torch.randint(1 , n_items , (len(items),))\n",
        "  pos_pref = item_bias[items] + (user_factor[users] * item_factor[items]).sum(dim = 1) # 각 줄마다 sum\n",
        "  neg_pref = item_bias[neg_items] + (user_factor[users] * item_factor[neg_items]).sum(dim = 1)\n",
        "  reg = (item_bias **2).sum() + (user_factor ** 2).sum() + (item_factor ** 2).sum()\n",
        "  cost = - logsigmoid(pos_pref - neg_pref).sum() - lmd * reg\n",
        "  optim.zero_grad()\n",
        "  cost.backward()\n",
        "  optim.step()\n",
        "  with torch.no_grad():\n",
        "    tran_acc = (pos_pref > neg_pref).sum() / len(pos_pref)\n",
        "    print(\"epoch : {} , tran acc : {}\".format(epoch , tran_acc))\n",
        "\n"
      ],
      "metadata": {
        "colab": {
          "base_uri": "https://localhost:8080/"
        },
        "id": "iggrfHQXXKmY",
        "outputId": "eafae156-426d-4f2e-f15a-a8ec482d8b11"
      },
      "execution_count": null,
      "outputs": [
        {
          "output_type": "stream",
          "name": "stdout",
          "text": [
            "epoch : 0 , tran acc : 0.672755777835846\n",
            "epoch : 1 , tran acc : 0.7273592948913574\n",
            "epoch : 2 , tran acc : 0.7808818221092224\n",
            "epoch : 3 , tran acc : 0.8317664265632629\n",
            "epoch : 4 , tran acc : 0.8732396960258484\n",
            "epoch : 5 , tran acc : 0.9040818810462952\n",
            "epoch : 6 , tran acc : 0.9309670925140381\n",
            "epoch : 7 , tran acc : 0.9477964043617249\n",
            "epoch : 8 , tran acc : 0.9610456824302673\n",
            "epoch : 9 , tran acc : 0.969752848148346\n",
            "epoch : 10 , tran acc : 0.9754254221916199\n",
            "epoch : 11 , tran acc : 0.9804930686950684\n",
            "epoch : 12 , tran acc : 0.9834384322166443\n",
            "epoch : 13 , tran acc : 0.9857788681983948\n",
            "epoch : 14 , tran acc : 0.987266480922699\n",
            "epoch : 15 , tran acc : 0.9882383346557617\n",
            "epoch : 16 , tran acc : 0.9893391132354736\n",
            "epoch : 17 , tran acc : 0.989785373210907\n",
            "epoch : 18 , tran acc : 0.9901424050331116\n",
            "epoch : 19 , tran acc : 0.9903605580329895\n",
            "epoch : 20 , tran acc : 0.9907076954841614\n",
            "epoch : 21 , tran acc : 0.9911043643951416\n",
            "epoch : 22 , tran acc : 0.9916895031929016\n",
            "epoch : 23 , tran acc : 0.9916399121284485\n",
            "epoch : 24 , tran acc : 0.9915605783462524\n",
            "epoch : 25 , tran acc : 0.9924332499504089\n",
            "epoch : 26 , tran acc : 0.9918580651283264\n",
            "epoch : 27 , tran acc : 0.9920365810394287\n",
            "epoch : 28 , tran acc : 0.9919671416282654\n",
            "epoch : 29 , tran acc : 0.9919472932815552\n",
            "epoch : 30 , tran acc : 0.9916895031929016\n",
            "epoch : 31 , tran acc : 0.9915109872817993\n",
            "epoch : 32 , tran acc : 0.9917489886283875\n",
            "epoch : 33 , tran acc : 0.9917688369750977\n",
            "epoch : 34 , tran acc : 0.991709291934967\n",
            "epoch : 35 , tran acc : 0.9915407299995422\n",
            "epoch : 36 , tran acc : 0.9920960664749146\n",
            "epoch : 37 , tran acc : 0.9912927746772766\n",
            "epoch : 38 , tran acc : 0.9916200637817383\n",
            "epoch : 39 , tran acc : 0.9915407299995422\n",
            "epoch : 40 , tran acc : 0.9916795492172241\n",
            "epoch : 41 , tran acc : 0.991441547870636\n",
            "epoch : 42 , tran acc : 0.9912431836128235\n",
            "epoch : 43 , tran acc : 0.9914216995239258\n",
            "epoch : 44 , tran acc : 0.9916993975639343\n",
            "epoch : 45 , tran acc : 0.9917886257171631\n",
            "epoch : 46 , tran acc : 0.9917192459106445\n",
            "epoch : 47 , tran acc : 0.9914018511772156\n",
            "epoch : 48 , tran acc : 0.9908266663551331\n",
            "epoch : 49 , tran acc : 0.9916399121284485\n",
            "epoch : 50 , tran acc : 0.9909754395484924\n",
            "epoch : 51 , tran acc : 0.9912630319595337\n",
            "epoch : 52 , tran acc : 0.9910349249839783\n",
            "epoch : 53 , tran acc : 0.9909456968307495\n",
            "epoch : 54 , tran acc : 0.990291178226471\n",
            "epoch : 55 , tran acc : 0.9910547733306885\n",
            "epoch : 56 , tran acc : 0.9904201030731201\n",
            "epoch : 57 , tran acc : 0.9912134408950806\n",
            "epoch : 58 , tran acc : 0.9907969236373901\n",
            "epoch : 59 , tran acc : 0.9906779527664185\n",
            "epoch : 60 , tran acc : 0.990370512008667\n",
            "epoch : 61 , tran acc : 0.9902812242507935\n",
            "epoch : 62 , tran acc : 0.9905688166618347\n",
            "epoch : 63 , tran acc : 0.9904101490974426\n",
            "epoch : 64 , tran acc : 0.9903010725975037\n",
            "epoch : 65 , tran acc : 0.9901424050331116\n",
            "epoch : 66 , tran acc : 0.9903308153152466\n",
            "epoch : 67 , tran acc : 0.9908862113952637\n",
            "epoch : 68 , tran acc : 0.9901225566864014\n",
            "epoch : 69 , tran acc : 0.989487886428833\n",
            "epoch : 70 , tran acc : 0.9897258877754211\n",
            "epoch : 71 , tran acc : 0.9898945093154907\n",
            "epoch : 72 , tran acc : 0.9893688559532166\n",
            "epoch : 73 , tran acc : 0.988982081413269\n",
            "epoch : 74 , tran acc : 0.9896366596221924\n",
            "epoch : 75 , tran acc : 0.9891110062599182\n",
            "epoch : 76 , tran acc : 0.989596962928772\n",
            "epoch : 77 , tran acc : 0.9893589615821838\n",
            "epoch : 78 , tran acc : 0.9892300367355347\n",
            "epoch : 79 , tran acc : 0.9897258877754211\n",
            "epoch : 80 , tran acc : 0.9895771145820618\n",
            "epoch : 81 , tran acc : 0.9890614748001099\n",
            "epoch : 82 , tran acc : 0.9890217781066895\n",
            "epoch : 83 , tran acc : 0.9887440800666809\n",
            "epoch : 84 , tran acc : 0.9890316724777222\n",
            "epoch : 85 , tran acc : 0.9882879257202148\n",
            "epoch : 86 , tran acc : 0.9883771538734436\n",
            "epoch : 87 , tran acc : 0.9886845946311951\n",
            "epoch : 88 , tran acc : 0.9885953664779663\n",
            "epoch : 89 , tran acc : 0.9881986379623413\n",
            "epoch : 90 , tran acc : 0.9892697334289551\n",
            "epoch : 91 , tran acc : 0.9878515601158142\n",
            "epoch : 92 , tran acc : 0.9878813028335571\n",
            "epoch : 93 , tran acc : 0.987940788269043\n",
            "epoch : 94 , tran acc : 0.988307774066925\n",
            "epoch : 95 , tran acc : 0.9885060787200928\n",
            "epoch : 96 , tran acc : 0.9880895614624023\n",
            "epoch : 97 , tran acc : 0.9875738620758057\n",
            "epoch : 98 , tran acc : 0.9878515601158142\n",
            "epoch : 99 , tran acc : 0.9873061180114746\n"
          ]
        }
      ]
    },
    {
      "cell_type": "code",
      "source": [
        "with torch.no_grad():\n",
        "  n_outputs = 10\n",
        "  uid = 2\n",
        "  scores_all = item_bias + (user_factor[uid] * item_factor).sum(dim = 1)\n",
        "  scores_all = scores_all.numpy()\n",
        "  ids = np.argsort(scores_all)[::-1]\n",
        "  pure_ids = ids[np.isin(ids , items[users==uid] , invert = True)]\n",
        "  pure_ids = pure_ids[:n_outputs]\n",
        "  scores = scores_all[pure_ids]\n",
        "  print(pure_ids)\n",
        "  print(scores)"
      ],
      "metadata": {
        "colab": {
          "base_uri": "https://localhost:8080/"
        },
        "id": "Q6VEjstsbU3c",
        "outputId": "9a1641f9-ce51-46c5-c95d-303167e7280a"
      },
      "execution_count": null,
      "outputs": [
        {
          "output_type": "stream",
          "name": "stdout",
          "text": [
            "[164216 183415 189192 187318 161225 157626 106503  87286 185783  30930]\n",
            "[39.663452 38.32841  38.307327 38.012184 36.8266   36.72903  36.57448\n",
            " 36.550068 36.44435  36.251198]\n"
          ]
        }
      ]
    }
  ]
}