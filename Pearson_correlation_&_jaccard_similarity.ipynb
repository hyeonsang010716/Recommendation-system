{
  "nbformat": 4,
  "nbformat_minor": 0,
  "metadata": {
    "colab": {
      "provenance": [],
      "authorship_tag": "ABX9TyPbjbS4lz1I5SUHs1VLNa11",
      "include_colab_link": true
    },
    "kernelspec": {
      "name": "python3",
      "display_name": "Python 3"
    },
    "language_info": {
      "name": "python"
    }
  },
  "cells": [
    {
      "cell_type": "markdown",
      "metadata": {
        "id": "view-in-github",
        "colab_type": "text"
      },
      "source": [
        "<a href=\"https://colab.research.google.com/github/hyeonsang010716/Recommendation-system/blob/main/Pearson_correlation_%26_jaccard_similarity.ipynb\" target=\"_parent\"><img src=\"https://colab.research.google.com/assets/colab-badge.svg\" alt=\"Open In Colab\"/></a>"
      ]
    },
    {
      "cell_type": "code",
      "execution_count": null,
      "metadata": {
        "colab": {
          "base_uri": "https://localhost:8080/"
        },
        "id": "_9mq-B0cFSAi",
        "outputId": "c3ed6369-0a56-4c25-c8d2-a1285b01e13a"
      },
      "outputs": [
        {
          "output_type": "stream",
          "name": "stdout",
          "text": [
            "--2024-03-13 04:41:18--  https://files.grouplens.org/datasets/movielens/ml-25m.zip\n",
            "Resolving files.grouplens.org (files.grouplens.org)... 128.101.65.152\n",
            "Connecting to files.grouplens.org (files.grouplens.org)|128.101.65.152|:443... connected.\n",
            "HTTP request sent, awaiting response... 200 OK\n",
            "Length: 261978986 (250M) [application/zip]\n",
            "Saving to: ‘ml-25m.zip’\n",
            "\n",
            "ml-25m.zip          100%[===================>] 249.84M   110MB/s    in 2.3s    \n",
            "\n",
            "2024-03-13 04:41:21 (110 MB/s) - ‘ml-25m.zip’ saved [261978986/261978986]\n",
            "\n"
          ]
        }
      ],
      "source": [
        "!wget https://files.grouplens.org/datasets/movielens/ml-25m.zip"
      ]
    },
    {
      "cell_type": "code",
      "source": [
        "!unzip ml-25m.zip"
      ],
      "metadata": {
        "colab": {
          "base_uri": "https://localhost:8080/"
        },
        "id": "x4m5QRQ9HTFV",
        "outputId": "511fb03f-6019-409f-8045-2a8a7d9d4a18"
      },
      "execution_count": null,
      "outputs": [
        {
          "output_type": "stream",
          "name": "stdout",
          "text": [
            "Archive:  ml-25m.zip\n",
            "   creating: ml-25m/\n",
            "  inflating: ml-25m/tags.csv         \n",
            "  inflating: ml-25m/links.csv        \n",
            "  inflating: ml-25m/README.txt       \n",
            "  inflating: ml-25m/ratings.csv      \n",
            "  inflating: ml-25m/genome-tags.csv  \n",
            "  inflating: ml-25m/genome-scores.csv  \n",
            "  inflating: ml-25m/movies.csv       \n"
          ]
        }
      ]
    },
    {
      "cell_type": "code",
      "source": [
        "!head ml-25m/ratings.csv"
      ],
      "metadata": {
        "colab": {
          "base_uri": "https://localhost:8080/"
        },
        "id": "XyPzCxViHbWV",
        "outputId": "9fbd7585-255a-48ac-b97d-c1188828ad18"
      },
      "execution_count": null,
      "outputs": [
        {
          "output_type": "stream",
          "name": "stdout",
          "text": [
            "userId,movieId,rating,timestamp\r\n",
            "1,296,5.0,1147880044\r\n",
            "1,306,3.5,1147868817\r\n",
            "1,307,5.0,1147868828\r\n",
            "1,665,5.0,1147878820\r\n",
            "1,899,3.5,1147868510\r\n",
            "1,1088,4.0,1147868495\r\n",
            "1,1175,3.5,1147868826\r\n",
            "1,1217,3.5,1147878326\r\n",
            "1,1237,5.0,1147868839\r\n"
          ]
        }
      ]
    },
    {
      "cell_type": "code",
      "source": [
        "import csv\n",
        "\n",
        "titles = dict()\n",
        "genres = dict()\n",
        "with open(\"ml-25m/movies.csv\" , \"r\") as f:\n",
        "  print(f.readline())\n",
        "  csvreader = csv.reader(f)\n",
        "  for mid , title , genre in csvreader:\n",
        "    titles[int(mid)] = title\n",
        "    genres[int(mid)] = set(genre.split(\"|\"))\n"
      ],
      "metadata": {
        "colab": {
          "base_uri": "https://localhost:8080/"
        },
        "id": "IqxGZRriHuF1",
        "outputId": "3e1f083d-a237-4c3f-c03a-a7f909e12208"
      },
      "execution_count": null,
      "outputs": [
        {
          "output_type": "stream",
          "name": "stdout",
          "text": [
            "movieId,title,genres\n",
            "\n"
          ]
        }
      ]
    },
    {
      "cell_type": "code",
      "source": [
        "def jaccard_similarity(a,b):\n",
        "  if len(a|b) == 0: return 0\n",
        "  return len(a & b) / len(a | b)\n",
        "\n",
        "\n",
        "def get_topk_jaccard_genres(target_mid , k = 20):\n",
        "  target_genreset = genres[target_mid]\n",
        "  res = []\n",
        "  for mid , title in titles.items():\n",
        "    genreset = genres[mid]\n",
        "    score = jaccard_similarity(target_genreset , genreset)\n",
        "    res.append((score , title))\n",
        "\n",
        "  res.sort(reverse=True)\n",
        "  return res[:k]\n",
        "\n"
      ],
      "metadata": {
        "id": "OfZfXuMfI1zu"
      },
      "execution_count": null,
      "outputs": []
    },
    {
      "cell_type": "code",
      "source": [
        "mid = 164909\n",
        "res = get_topk_jaccard_genres(mid , 20)\n",
        "\n",
        "print(res)"
      ],
      "metadata": {
        "colab": {
          "base_uri": "https://localhost:8080/"
        },
        "id": "B_CyJCEML8fb",
        "outputId": "1573ae10-ed4a-4a46-abd8-b67d2589f9ee"
      },
      "execution_count": null,
      "outputs": [
        {
          "output_type": "stream",
          "name": "stdout",
          "text": [
            "[(1.0, 'Собака Павлова (2005)'), (1.0, 'Şabaniye (1984)'), (1.0, 'Zus & Zo (2001)'), (1.0, 'Zero (2018)'), (1.0, 'Zack and Miri Make a Porno (2008)'), (1.0, 'Youth in Revolt (2009)'), (1.0, 'You and the Night (2013)'), (1.0, 'You Stupid Man (2002)'), (1.0, 'You Are the Apple of My Eye (2011)'), (1.0, 'Yo Yo (Yoyo) (1965)'), (1.0, 'Yes, But... (Oui, mais...) (2001)'), (1.0, 'Yes Or No (2010)'), (1.0, 'Yellow Cab Man, The (1950)'), (1.0, 'Year of the Dog (2007)'), (1.0, 'Year by the Sea (2016)'), (1.0, \"X's & O's (2007)\"), (1.0, 'Wyjazd Integracyjny (2011)'), (1.0, 'World According to Garp, The (1982)'), (1.0, 'Working Girl (1988)'), (1.0, 'Words and Pictures (2013)')]\n"
          ]
        }
      ]
    },
    {
      "cell_type": "code",
      "source": [
        "ratings = []\n",
        "with open(\"ml-25m/ratings.csv\" , \"r\") as f:\n",
        "  print(f.readline())\n",
        "  for line in f:\n",
        "    uid , mid , rating , timestamp = line.split(\",\")\n",
        "    ratings.append((int(uid) , int(mid) , float(rating)))\n",
        "\n",
        "ratings\n"
      ],
      "metadata": {
        "id": "HcQ1vH8UM9Qd"
      },
      "execution_count": null,
      "outputs": []
    },
    {
      "cell_type": "code",
      "source": [
        "from collections import defaultdict\n",
        "# movie를 키로 하고 user를 집합에 넣어준다.\n",
        "usets = defaultdict(set)\n",
        "#defaultdict는 비어있는 set으로 미리 만들어 준다.\n",
        "for uid , mid, rating in ratings:\n",
        "  usets[mid].add(uid)\n"
      ],
      "metadata": {
        "id": "mEgKPn3dOHMy"
      },
      "execution_count": null,
      "outputs": []
    },
    {
      "cell_type": "code",
      "source": [
        "def get_topk_jaccard_ratings(target_mid , k = 20):\n",
        "  target_uset = usets[target_mid]\n",
        "  res = []\n",
        "  for mid , title in titles.items():\n",
        "    genreset = usets[mid]\n",
        "    score = jaccard_similarity(target_uset , genreset)\n",
        "    res.append((score , title))\n",
        "\n",
        "  res.sort(reverse=True)\n",
        "  return res[:k]\n",
        "\n",
        "res = get_topk_jaccard_ratings(112552)\n",
        "res"
      ],
      "metadata": {
        "colab": {
          "base_uri": "https://localhost:8080/"
        },
        "id": "DCH_VrUHPSlT",
        "outputId": "4ee8aa11-495d-4a3e-df8d-9ec17d08c5db"
      },
      "execution_count": null,
      "outputs": [
        {
          "output_type": "execute_result",
          "data": {
            "text/plain": [
              "[(1.0, 'Whiplash (2014)'),\n",
              " (0.34346657709103123, 'Gone Girl (2014)'),\n",
              " (0.33069178628389156, 'The Imitation Game (2014)'),\n",
              " (0.3202530162820663, 'Interstellar (2014)'),\n",
              " (0.31890598662389213, 'Grand Budapest Hotel, The (2014)'),\n",
              " (0.3178914625340221, 'Ex Machina (2015)'),\n",
              " (0.31770758896670004,\n",
              "  'Birdman: Or (The Unexpected Virtue of Ignorance) (2014)'),\n",
              " (0.3133357646486749, 'Her (2013)'),\n",
              " (0.312987900078064, 'Wolf of Wall Street, The (2013)'),\n",
              " (0.3059296340689558, 'Nightcrawler (2014)'),\n",
              " (0.2975845919065411, 'Mad Max: Fury Road (2015)'),\n",
              " (0.2957345586142398, 'Django Unchained (2012)'),\n",
              " (0.2737903411445145, 'The Martian (2015)'),\n",
              " (0.2668467981626587, 'Gravity (2013)'),\n",
              " (0.2627047459050819, 'Shutter Island (2010)'),\n",
              " (0.2575789399985997, 'Dallas Buyers Club (2013)'),\n",
              " (0.25711628659226915, 'Dark Knight Rises, The (2012)'),\n",
              " (0.25615628009354796, 'The Revenant (2015)'),\n",
              " (0.2561167699254437, 'Intouchables (2011)'),\n",
              " (0.25411334552102377, 'Arrival (2016)')]"
            ]
          },
          "metadata": {},
          "execution_count": 18
        }
      ]
    },
    {
      "cell_type": "code",
      "source": [
        "ursets = defaultdict(dict)\n",
        "for uid , mid , rating in ratings:\n",
        "  ursets[mid][uid] = rating"
      ],
      "metadata": {
        "id": "hN2v4s6hQv5g"
      },
      "execution_count": null,
      "outputs": []
    },
    {
      "cell_type": "code",
      "source": [
        "for mid , urset in ursets.items():\n",
        "  avg = sum(urset.values()) / len(urset)\n",
        "  for k in urset:\n",
        "    urset[k] -= avg"
      ],
      "metadata": {
        "id": "bVoblNunSw4O"
      },
      "execution_count": null,
      "outputs": []
    },
    {
      "cell_type": "code",
      "source": [
        "def consine_similarity(a,b):\n",
        "  nu = sum(a[k] * b[k] for k in a.keys() & b.keys())\n",
        "  de = (sum(x * x for x in a.values()) * sum(x * x for x in a.values())) ** 0.5\n",
        "  if de == 0 : return 0\n",
        "  return nu / de\n",
        "\n",
        "def get_topk_pearson_ratings(target_mid , k = 20):\n",
        "  target_urset = ursets[target_mid]\n",
        "  res = []\n",
        "  for mid , title in titles.items():\n",
        "    genreset = ursets[mid]\n",
        "    score = consine_similarity(target_urset , genreset)\n",
        "    res.append((score , title))\n",
        "\n",
        "  res.sort(reverse=True)\n",
        "  return res[:k]\n",
        "\n",
        "res = get_topk_pearson_ratings(112552)\n",
        "res"
      ],
      "metadata": {
        "colab": {
          "base_uri": "https://localhost:8080/"
        },
        "id": "rtez5OovTFje",
        "outputId": "b4a1edae-76a8-4f85-a9f1-8c34e05c8b3c"
      },
      "execution_count": null,
      "outputs": [
        {
          "output_type": "execute_result",
          "data": {
            "text/plain": [
              "[(0.9999999999999988, 'Whiplash (2014)'),\n",
              " (0.19111707278803156, 'Inception (2010)'),\n",
              " (0.18189820107301488, 'Interstellar (2014)'),\n",
              " (0.17767282750285202, 'Dark Knight, The (2008)'),\n",
              " (0.1715264009485277, 'Django Unchained (2012)'),\n",
              " (0.16837186600682544, \"Schindler's List (1993)\"),\n",
              " (0.16465185561347476, 'Inglourious Basterds (2009)'),\n",
              " (0.1642028420675276, 'Fight Club (1999)'),\n",
              " (0.15668083853137563, 'Silence of the Lambs, The (1991)'),\n",
              " (0.1535912306698802, 'Pulp Fiction (1994)'),\n",
              " (0.15333147736969344, 'Gone Girl (2014)'),\n",
              " (0.15194389899169458,\n",
              "  'Lord of the Rings: The Return of the King, The (2003)'),\n",
              " (0.15032309716277953, 'Matrix, The (1999)'),\n",
              " (0.15000561154629138, 'Shawshank Redemption, The (1994)'),\n",
              " (0.14820986101018202, 'Prestige, The (2006)'),\n",
              " (0.14312438143448764, 'Eternal Sunshine of the Spotless Mind (2004)'),\n",
              " (0.14302689166039786, 'Grand Budapest Hotel, The (2014)'),\n",
              " (0.14278151067272393, 'Wolf of Wall Street, The (2013)'),\n",
              " (0.1410801538193733, 'Her (2013)'),\n",
              " (0.13904256739060086, 'Dark Knight Rises, The (2012)')]"
            ]
          },
          "metadata": {},
          "execution_count": 21
        }
      ]
    }
  ]
}