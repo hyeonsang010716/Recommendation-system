{
  "nbformat": 4,
  "nbformat_minor": 0,
  "metadata": {
    "colab": {
      "provenance": [],
      "authorship_tag": "ABX9TyOMgQuQjfUwo7EiPepi2obn",
      "include_colab_link": true
    },
    "kernelspec": {
      "name": "python3",
      "display_name": "Python 3"
    },
    "language_info": {
      "name": "python"
    }
  },
  "cells": [
    {
      "cell_type": "markdown",
      "metadata": {
        "id": "view-in-github",
        "colab_type": "text"
      },
      "source": [
        "<a href=\"https://colab.research.google.com/github/hyeonsang010716/Recommendation-system/blob/main/user_free_model.ipynb\" target=\"_parent\"><img src=\"https://colab.research.google.com/assets/colab-badge.svg\" alt=\"Open In Colab\"/></a>"
      ]
    },
    {
      "cell_type": "code",
      "execution_count": null,
      "metadata": {
        "colab": {
          "base_uri": "https://localhost:8080/"
        },
        "id": "_SSfZhcfe9qh",
        "outputId": "63f60653-b9c9-417c-9c51-4c0f2f1508cd"
      },
      "outputs": [
        {
          "output_type": "stream",
          "name": "stdout",
          "text": [
            "--2024-04-21 12:58:05--  https://files.grouplens.org/datasets/hetrec2011/hetrec2011-lastfm-2k.zip\n",
            "Resolving files.grouplens.org (files.grouplens.org)... 128.101.65.152\n",
            "Connecting to files.grouplens.org (files.grouplens.org)|128.101.65.152|:443... connected.\n",
            "HTTP request sent, awaiting response... 200 OK\n",
            "Length: 2589075 (2.5M) [application/zip]\n",
            "Saving to: ‘hetrec2011-lastfm-2k.zip’\n",
            "\n",
            "hetrec2011-lastfm-2 100%[===================>]   2.47M  --.-KB/s    in 0.1s    \n",
            "\n",
            "2024-04-21 12:58:05 (17.7 MB/s) - ‘hetrec2011-lastfm-2k.zip’ saved [2589075/2589075]\n",
            "\n",
            "Archive:  hetrec2011-lastfm-2k.zip\n",
            "  inflating: user_friends.dat        \n",
            "  inflating: user_taggedartists.dat  \n",
            "  inflating: user_taggedartists-timestamps.dat  \n",
            "  inflating: artists.dat             \n",
            "  inflating: readme.txt              \n",
            "  inflating: tags.dat                \n",
            "  inflating: user_artists.dat        \n"
          ]
        }
      ],
      "source": [
        "!wget https://files.grouplens.org/datasets/hetrec2011/hetrec2011-lastfm-2k.zip\n",
        "!unzip hetrec2011-lastfm-2k.zip"
      ]
    },
    {
      "cell_type": "code",
      "source": [
        "!head artists.dat"
      ],
      "metadata": {
        "colab": {
          "base_uri": "https://localhost:8080/"
        },
        "id": "SkNY5cUkh8Cb",
        "outputId": "c5648664-6499-4096-b5d2-8d4975d807db"
      },
      "execution_count": null,
      "outputs": [
        {
          "output_type": "stream",
          "name": "stdout",
          "text": [
            "head: cannot open 'artists.dat' for reading: No such file or directory\n"
          ]
        }
      ]
    },
    {
      "cell_type": "code",
      "source": [
        "artists = {}\n",
        "with open(\"artists.dat\" , \"r\") as f:\n",
        "  f.readline()\n",
        "  for line in f:\n",
        "    id , name , _ , _ = line.split(\"\\t\")\n",
        "    artists[int(id)] = name"
      ],
      "metadata": {
        "id": "yivIZBDFiCWA"
      },
      "execution_count": null,
      "outputs": []
    },
    {
      "cell_type": "code",
      "source": [
        "import numpy as np\n",
        "users = []\n",
        "items = []\n",
        "weights = []\n",
        "with open(\"user_artists.dat\" , \"r\") as f:\n",
        "  f.readline()\n",
        "  for line in f:\n",
        "    uid , aid , weight = line.split(\"\\t\")\n",
        "    users.append(int(uid))\n",
        "    items.append(int(aid))\n",
        "    weights.append(np.log(1 + float(weight)))\n",
        "users = np.array(users)\n",
        "items = np.array(items)\n",
        "weights = np.array(weights)"
      ],
      "metadata": {
        "id": "ZXM_2RHhig6-"
      },
      "execution_count": null,
      "outputs": []
    },
    {
      "cell_type": "code",
      "source": [
        "from scipy.sparse import csc_matrix\n",
        "from sklearn.linear_model import ElasticNet\n",
        "from tqdm import tqdm\n",
        "rows = []\n",
        "cols = []\n",
        "data = []\n",
        "# csc는 (rating  , (row , col))\n",
        "train = csc_matrix((weights , (users , items)))\n",
        "model = ElasticNet(alpha = 0.1 , l1_ratio = 0.5, positive = True , fit_intercept = False, copy_X = False , selection = 'random' , tol = 1e-6 , max_iter = 100)\n",
        "n_items = max(items) + 1\n",
        "for current_item in tqdm(range(n_items)):\n",
        "  y = train[: , current_item].toarray()\n",
        "  if all(y == 0): continue\n",
        "  s = train.indptr[current_item]\n",
        "  e = train.indptr[current_item + 1]\n",
        "  backup = train.data[s:e].copy()\n",
        "  train.data[s:e] = 0.0\n",
        "  model.fit(train , y)\n",
        "  scoef = model.sparse_coef_\n",
        "  cols.extend([current_item] * scoef.indices.shape[0])\n",
        "  rows.extend(scoef.indices)\n",
        "  data.extend(scoef.data)\n",
        "\n",
        "  train.data[s:e] = backup\n",
        "W = csc_matrix( (data , (rows , cols)) , shape = (n_items , n_items))\n"
      ],
      "metadata": {
        "colab": {
          "base_uri": "https://localhost:8080/"
        },
        "id": "T4Hz2qqVj43_",
        "outputId": "a34cd07f-ee72-403b-95fb-db2c8d142f0b"
      },
      "execution_count": null,
      "outputs": [
        {
          "output_type": "stream",
          "name": "stderr",
          "text": [
            "100%|██████████| 18746/18746 [03:26<00:00, 90.67it/s] \n"
          ]
        }
      ]
    },
    {
      "cell_type": "code",
      "source": [
        "# 1918 동방신기\n",
        "q = 1918\n",
        "s = W.indptr[q]\n",
        "e = W.indptr[q+1]\n",
        "artist_ids = W.indices[s:e]\n",
        "scores = W.data[s:e]\n",
        "print(\"[{}] 와 유사한 artists:\".format(artists[q]))\n",
        "for s , aid in sorted(zip(scores , artist_ids) , reverse = True):\n",
        "  print(s , aid , artists[aid])"
      ],
      "metadata": {
        "colab": {
          "base_uri": "https://localhost:8080/"
        },
        "id": "UOjQLrdOsh15",
        "outputId": "0927e344-7dd0-418e-811b-ae4524fb3b0b"
      },
      "execution_count": null,
      "outputs": [
        {
          "output_type": "stream",
          "name": "stdout",
          "text": [
            "[동방신기] 와 유사한 artists:\n",
            "0.10777798273670769 2092 소녀시대\n",
            "0.09632058048178652 393 Super Junior\n",
            "0.023374301779661585 2094 BoA\n",
            "0.014559506414026214 2097 Brown Eyed Girls\n",
            "0.007568961329812519 2799 f(x)\n",
            "0.0030389594715197385 55 Kylie Minogue\n",
            "0.0010564176005322219 292 Christina Aguilera\n",
            "0.0007849191333476713 2102 倖田來未\n"
          ]
        }
      ]
    },
    {
      "cell_type": "code",
      "source": [
        "uid = 312\n",
        "userdata = train[uid , :].tocsr()\n",
        "\n",
        "scores = userdata.dot(W)\n",
        "for s, aid in sorted(zip(scores.data , scores.indices) , reverse = True)[:100]:\n",
        "  if aid not in userdata.indices:\n",
        "    print(s , aid , artists[aid])\n"
      ],
      "metadata": {
        "colab": {
          "base_uri": "https://localhost:8080/"
        },
        "id": "WXPys0aZvTht",
        "outputId": "1385814b-6245-431b-a241-289e72e4449a"
      },
      "execution_count": null,
      "outputs": [
        {
          "output_type": "stream",
          "name": "stdout",
          "text": [
            "3.6422400417739698 374 宇多田ヒカル\n",
            "2.969105007171338 1904 SHINee\n",
            "2.113919847040355 2091 4minute\n",
            "1.7813714261171147 2101 Capsule\n",
            "1.7016521388170187 289 Britney Spears\n",
            "1.5240928866510346 464 3OH!3\n",
            "1.3433195302773033 400 2NE1\n",
            "1.196476883950902 2089 티아라\n",
            "1.0337634311579396 288 Rihanna\n",
            "0.998296598898178 300 Katy Perry\n",
            "0.9934655071104239 1857 YUI\n",
            "0.9886975236597993 409 G-Dragon\n",
            "0.9757354339775685 377 Linkin Park\n",
            "0.9549264629252869 306 Black Eyed Peas\n",
            "0.9111230917250542 691 Owl City\n",
            "0.8356358967326332 257 Mariah Carey\n",
            "0.8309113317545049 2104 ルルティア\n",
            "0.6877432882888026 1919 HIGH and MIGHTY COLOR\n",
            "0.5804573359670403 1246 Panic! At the Disco\n",
            "0.5665611209888506 906 Girls Aloud\n",
            "0.5135718915402959 379 中島美嘉\n",
            "0.4980561518183765 55 Kylie Minogue\n",
            "0.4741839322973734 456 Jesse McCartney\n",
            "0.428856821792848 689 Florence + the Machine\n",
            "0.41904625903766785 344 Taylor Swift\n",
            "0.40201089159062275 3187 Kudai\n",
            "0.3977596155851986 3490 Utada\n",
            "0.38165724118865485 1243 Mika\n",
            "0.37814479146007635 1043 Boys Like Girls\n",
            "0.37372854880179884 2111 鬼束ちひろ\n",
            "0.35592242559547443 10226 鈴木あみ\n",
            "0.35336754082418986 1047 McFly\n",
            "0.35142368746966496 56 Daft Punk\n",
            "0.347080535228575 524 Jeffree Star\n",
            "0.3457727302979172 291 Kelly Clarkson\n",
            "0.33889567694436495 1922 Rie fu\n",
            "0.30653864922885254 6453 The Academy Is...\n",
            "0.2877233225351212 790 Belinda\n",
            "0.279517426803726 1934 Adele\n",
            "0.27551906384520153 2117 시크릿\n",
            "0.27308132912257455 67 Madonna\n",
            "0.2715428019055992 2020 Leighton Meester\n",
            "0.26972311713847513 970 Infernal\n",
            "0.26198561816424804 1034 Kerli\n",
            "0.26158504617333134 544 Adam Lambert\n",
            "0.25252281653801995 523 Lindsay Lohan\n",
            "0.24684332199318068 65 Coldplay\n",
            "0.2413291018751246 1470 Lifehouse\n",
            "0.23667692354773148 295 Beyoncé\n",
            "0.23568233227122318 2977 Kris Allen\n",
            "0.2266169944993388 972 t.A.T.u.\n",
            "0.2224367239106529 2521 Robyn\n",
            "0.22160332620786044 2523 Spice Girls\n",
            "0.2197184038234757 397 雅-MIYAVI-\n",
            "0.19748810115325216 389 Enya\n",
            "0.18307473669939284 2176 Michael Bublé\n",
            "0.1802571318002632 298 Lily Allen\n",
            "0.1789509082509315 1601 Anastacia\n",
            "0.1754624549230934 2546 Vanessa Carlton\n",
            "0.17054620062467815 227 The Beatles\n",
            "0.15414499658314615 1450 Kristinia DeBarge\n",
            "0.14995920317339748 2107 태양\n",
            "0.14914787822877237 5605 植松伸夫\n",
            "0.1485703400976838 528 Pixie Lott\n",
            "0.1473449534929157 325 Ashley Tisdale\n",
            "0.14665993962657398 498 Paramore\n",
            "0.14284961317750644 328 David Guetta\n",
            "0.14144955880294516 669 Eric Saade\n"
          ]
        }
      ]
    },
    {
      "cell_type": "code",
      "source": [
        "for x in userdata.indices:\n",
        "  print(artists[x])"
      ],
      "metadata": {
        "colab": {
          "base_uri": "https://localhost:8080/"
        },
        "id": "hNEaBmRxw6-O",
        "outputId": "c847d06a-3a4d-489b-80f5-a1d7f8dad79e"
      },
      "execution_count": null,
      "outputs": [
        {
          "output_type": "stream",
          "name": "stdout",
          "text": [
            "Lady Gaga\n",
            "Cobra Starship\n",
            "BIG BANG\n",
            "2PM\n",
            "浜崎あゆみ\n",
            "B2ST\n",
            "Super Junior\n",
            "山下智久\n",
            "NEWS\n",
            "嵐\n",
            "After School\n",
            "Glee Cast\n",
            "東方神起\n",
            "동방신기\n",
            "Perfume\n",
            "Alan\n",
            "소녀시대\n",
            "BoA\n",
            "Brown Eyed Girls\n",
            "Kara\n",
            "倖田來未\n",
            "U-KISS\n",
            "f(x)\n",
            "이효리\n",
            "黒木メイサ\n",
            "Belanova\n",
            "安室奈美恵\n",
            "The Lonely Island\n",
            "Wonder Girls\n",
            "KAT-TUN\n",
            "AAA\n",
            "モーニング娘。\n",
            "大塚愛\n",
            "GIRL NEXT DOOR\n",
            "샤이니\n",
            "V6\n",
            "後藤真希\n",
            "AKB48\n",
            "Clazziquai Project\n",
            "신화\n",
            "w-inds.\n",
            "SE7EN\n",
            "Sweetbox\n",
            "Banana Girl\n",
            "KinKi Kids\n",
            "林俊傑\n",
            "TOKIO\n",
            "蔡依林\n",
            "SS501\n",
            "Sweet Vacation\n"
          ]
        }
      ]
    }
  ]
}