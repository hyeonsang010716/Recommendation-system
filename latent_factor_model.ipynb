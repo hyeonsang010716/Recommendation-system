{
  "nbformat": 4,
  "nbformat_minor": 0,
  "metadata": {
    "colab": {
      "provenance": [],
      "authorship_tag": "ABX9TyNu28LoS10sB9vY29MH7l6V",
      "include_colab_link": true
    },
    "kernelspec": {
      "name": "python3",
      "display_name": "Python 3"
    },
    "language_info": {
      "name": "python"
    }
  },
  "cells": [
    {
      "cell_type": "markdown",
      "metadata": {
        "id": "view-in-github",
        "colab_type": "text"
      },
      "source": [
        "<a href=\"https://colab.research.google.com/github/hyeonsang010716/Recommendation-system/blob/main/latent_factor_model.ipynb\" target=\"_parent\"><img src=\"https://colab.research.google.com/assets/colab-badge.svg\" alt=\"Open In Colab\"/></a>"
      ]
    },
    {
      "cell_type": "code",
      "execution_count": null,
      "metadata": {
        "colab": {
          "base_uri": "https://localhost:8080/"
        },
        "id": "7zEzMsovtJNH",
        "outputId": "5011c36a-0b3f-450a-ba2b-ef152a8ce69d"
      },
      "outputs": [
        {
          "output_type": "stream",
          "name": "stdout",
          "text": [
            "--2024-03-28 06:21:17--  https://files.grouplens.org/datasets/movielens/ml-latest-small.zip\n",
            "Resolving files.grouplens.org (files.grouplens.org)... 128.101.65.152\n",
            "Connecting to files.grouplens.org (files.grouplens.org)|128.101.65.152|:443... connected.\n",
            "HTTP request sent, awaiting response... 200 OK\n",
            "Length: 978202 (955K) [application/zip]\n",
            "Saving to: ‘ml-latest-small.zip’\n",
            "\n",
            "ml-latest-small.zip 100%[===================>] 955.28K  4.58MB/s    in 0.2s    \n",
            "\n",
            "2024-03-28 06:21:18 (4.58 MB/s) - ‘ml-latest-small.zip’ saved [978202/978202]\n",
            "\n",
            "Archive:  ml-latest-small.zip\n",
            "   creating: ml-latest-small/\n",
            "  inflating: ml-latest-small/links.csv  \n",
            "  inflating: ml-latest-small/tags.csv  \n",
            "  inflating: ml-latest-small/ratings.csv  \n",
            "  inflating: ml-latest-small/README.txt  \n",
            "  inflating: ml-latest-small/movies.csv  \n"
          ]
        }
      ],
      "source": [
        "!wget https://files.grouplens.org/datasets/movielens/ml-latest-small.zip\n",
        "!unzip ml-latest-small.zip"
      ]
    },
    {
      "cell_type": "code",
      "source": [
        "import numpy as np\n",
        "\n",
        "users = []\n",
        "items = []\n",
        "ratings = []\n",
        "\n",
        "with open(\"ml-latest-small/ratings.csv\",'r') as f:\n",
        "  print(f.readline())\n",
        "  for line in f:\n",
        "    ul , ml , rating , _ = line.split(',')\n",
        "    users.append(int(ul))\n",
        "    items.append(int(ml))\n",
        "    ratings.append(float(rating))\n",
        "\n",
        "users = np.array(users)\n",
        "items = np.array(items)\n",
        "ratings = np.array(ratings)"
      ],
      "metadata": {
        "colab": {
          "base_uri": "https://localhost:8080/"
        },
        "id": "fNNIdUBBt8Oa",
        "outputId": "064c8b20-90cb-4d7e-a76b-81ca4bbc1166"
      },
      "execution_count": null,
      "outputs": [
        {
          "output_type": "stream",
          "name": "stdout",
          "text": [
            "userId,movieId,rating,timestamp\n",
            "\n"
          ]
        }
      ]
    },
    {
      "cell_type": "code",
      "source": [
        "rank = 10\n",
        "alpha = ratings.mean()\n",
        "user_bias = np.zeros(users.max() + 1)\n",
        "item_bias = np.zeros(items.max() + 1)\n",
        "user_reps = np.random.randn(users.max() + 1 , rank)\n",
        "item_reps = np.random.randn(items.max() + 1 , rank)\n"
      ],
      "metadata": {
        "id": "LBDfcmcKu8oX"
      },
      "execution_count": null,
      "outputs": []
    },
    {
      "cell_type": "code",
      "source": [
        "lr = 0.1\n",
        "lmd = 0.001\n",
        "for epoch in range(10):\n",
        "  h = alpha + user_bias[users] + item_bias[items] + (user_reps[users] * item_reps[items]).sum(axis = 1)\n",
        "  rmse = ((h - ratings) **2).mean() ** 0.5\n",
        "  print(\"rmse : {} , epoch : {} \".format(rmse , epoch))\n",
        "  for user , item , rating in zip(users , items , ratings):\n",
        "    bu = user_bias[user]\n",
        "    bi = item_bias[item]\n",
        "    pu = user_reps[user]\n",
        "    qi = item_reps[item]\n",
        "    est = alpha + bu + bi + np.dot(pu , qi)\n",
        "    diff = est - rating\n",
        "\n",
        "    grd_user_bias = diff + lmd * bu\n",
        "    grd_item_bias = diff + lmd * bi\n",
        "    grd_user_reps = diff * qi + lmd * pu\n",
        "    grd_item_reps = diff * pu + lmd * qi\n",
        "\n",
        "    user_bias[user] = user_bias[user] - lr * grd_user_bias\n",
        "    item_bias[item] = item_bias[item] - lr * grd_item_bias\n",
        "    user_reps[user] = user_reps[user] - lr * grd_user_reps\n",
        "    item_reps[item] = item_reps[item] - lr * grd_item_reps\n"
      ],
      "metadata": {
        "colab": {
          "base_uri": "https://localhost:8080/"
        },
        "id": "5UN0sMBWv6D9",
        "outputId": "214d74fc-cc95-4278-a500-ae6aae3c255c"
      },
      "execution_count": null,
      "outputs": [
        {
          "output_type": "stream",
          "name": "stdout",
          "text": [
            "rmse : 3.30011765104686 , epoch : 0 \n",
            "rmse : 1.171648352711882 , epoch : 1 \n",
            "rmse : 1.0385912702790645 , epoch : 2 \n",
            "rmse : 0.9970695943263967 , epoch : 3 \n",
            "rmse : 0.9716550503620398 , epoch : 4 \n",
            "rmse : 0.9522125969991326 , epoch : 5 \n",
            "rmse : 0.9382007904229416 , epoch : 6 \n",
            "rmse : 0.9265447265742149 , epoch : 7 \n",
            "rmse : 0.9178697525210575 , epoch : 8 \n",
            "rmse : 0.9115097496743874 , epoch : 9 \n"
          ]
        }
      ]
    },
    {
      "cell_type": "code",
      "source": [
        "!pip install surprise"
      ],
      "metadata": {
        "colab": {
          "base_uri": "https://localhost:8080/"
        },
        "id": "0w264gD628c9",
        "outputId": "8d9d80ec-624a-4aaa-8017-ad81b7ef145c"
      },
      "execution_count": null,
      "outputs": [
        {
          "output_type": "stream",
          "name": "stdout",
          "text": [
            "Collecting surprise\n",
            "  Downloading surprise-0.1-py2.py3-none-any.whl (1.8 kB)\n",
            "Collecting scikit-surprise (from surprise)\n",
            "  Downloading scikit-surprise-1.1.3.tar.gz (771 kB)\n",
            "\u001b[2K     \u001b[90m━━━━━━━━━━━━━━━━━━━━━━━━━━━━━━━━━━━━━━━━\u001b[0m \u001b[32m772.0/772.0 kB\u001b[0m \u001b[31m8.5 MB/s\u001b[0m eta \u001b[36m0:00:00\u001b[0m\n",
            "\u001b[?25h  Preparing metadata (setup.py) ... \u001b[?25l\u001b[?25hdone\n",
            "Requirement already satisfied: joblib>=1.0.0 in /usr/local/lib/python3.10/dist-packages (from scikit-surprise->surprise) (1.3.2)\n",
            "Requirement already satisfied: numpy>=1.17.3 in /usr/local/lib/python3.10/dist-packages (from scikit-surprise->surprise) (1.25.2)\n",
            "Requirement already satisfied: scipy>=1.3.2 in /usr/local/lib/python3.10/dist-packages (from scikit-surprise->surprise) (1.11.4)\n",
            "Building wheels for collected packages: scikit-surprise\n",
            "  Building wheel for scikit-surprise (setup.py) ... \u001b[?25l\u001b[?25hdone\n",
            "  Created wheel for scikit-surprise: filename=scikit_surprise-1.1.3-cp310-cp310-linux_x86_64.whl size=3162745 sha256=d96983543f3bdf8f625a0f343eb92db198ba30255fb3c2abc56f9c241be04637\n",
            "  Stored in directory: /root/.cache/pip/wheels/a5/ca/a8/4e28def53797fdc4363ca4af740db15a9c2f1595ebc51fb445\n",
            "Successfully built scikit-surprise\n",
            "Installing collected packages: scikit-surprise, surprise\n",
            "Successfully installed scikit-surprise-1.1.3 surprise-0.1\n"
          ]
        }
      ]
    },
    {
      "cell_type": "code",
      "source": [
        "from surprise import SVD , Reader , Dataset\n",
        "from surprise.model_selection import train_test_split\n",
        "\n",
        "reader = Reader(line_format = \"user item rating timestamp\" , sep = ',' , skip_lines = 1)\n",
        "data = Dataset.load_from_file(\"ml-latest-small/ratings.csv\", reader = reader)\n",
        "\n",
        "trainset , testset = train_test_split(data , test_size = 0.1)\n",
        "\n"
      ],
      "metadata": {
        "id": "mj31AOV94Y46"
      },
      "execution_count": null,
      "outputs": []
    },
    {
      "cell_type": "code",
      "source": [
        "model = SVD(n_factors = 10) # level 차원의 수\n",
        "model.fit(trainset)\n",
        "model.predict('24', '3034') # 23 유저가 123 영화"
      ],
      "metadata": {
        "colab": {
          "base_uri": "https://localhost:8080/"
        },
        "id": "pKYTk1BE5RTT",
        "outputId": "3d79b08d-d74f-4566-8c45-cbe4a96beadf"
      },
      "execution_count": null,
      "outputs": [
        {
          "output_type": "execute_result",
          "data": {
            "text/plain": [
              "Prediction(uid='24', iid='3034', r_ui=None, est=3.6029392633728, details={'was_impossible': False})"
            ]
          },
          "metadata": {},
          "execution_count": 34
        }
      ]
    },
    {
      "cell_type": "code",
      "source": [
        "from surprise import accuracy\n",
        "\n",
        "train_to_test = trainset.build_testset()\n",
        "pred_train = model.test(train_to_test)\n",
        "rmse_train = accuracy.rmse(pred_train)\n",
        "\n",
        "\n",
        "pred_test = model.test(testset)\n",
        "rmse_test = accuracy.rmse(pred_test)\n",
        "\n",
        "print(\"rmse_train : {} , rmse_test : {}\".format(rmse_train , rmse_test))"
      ],
      "metadata": {
        "colab": {
          "base_uri": "https://localhost:8080/"
        },
        "id": "jPvNQfAj50H8",
        "outputId": "c9cc36bf-29d3-4490-e797-f4a2a53e9a80"
      },
      "execution_count": null,
      "outputs": [
        {
          "output_type": "stream",
          "name": "stdout",
          "text": [
            "RMSE: 0.7991\n",
            "RMSE: 0.8565\n",
            "rmse_train : 0.79908457724616 , rmse_test : 0.8564526670569853\n"
          ]
        }
      ]
    }
  ]
}